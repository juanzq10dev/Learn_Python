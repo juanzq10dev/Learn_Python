{
 "cells": [
  {
   "cell_type": "markdown",
   "metadata": {},
   "source": [
    "# Method Resolution Order\n",
    "- Determines the order in which classes are searches for a method."
   ]
  },
  {
   "cell_type": "markdown",
   "metadata": {},
   "source": [
    "- On simple scenarios MRO goes as depth-first, left-to-right, not searching twice on the same class."
   ]
  },
  {
   "cell_type": "code",
   "execution_count": null,
   "metadata": {},
   "outputs": [],
   "source": [
    "class A:\n",
    "    def show(self):\n",
    "        return \"A\"\n",
    "\n",
    "class B(A):\n",
    "    def show(self):\n",
    "        return \"B\"\n",
    "\n",
    "class C(A):\n",
    "    def show(self):\n",
    "        return \"C\"\n",
    "\n",
    "class D(B, C):\n",
    "    pass\n",
    "\n",
    "d = D()\n",
    "print(d.show())\n",
    "print(D.mro())"
   ]
  },
  {
   "cell_type": "markdown",
   "metadata": {},
   "source": [
    "In complicated hierarchies, all requirements of MRO may not be reached, and python throws an Exception"
   ]
  },
  {
   "cell_type": "code",
   "execution_count": null,
   "metadata": {},
   "outputs": [],
   "source": [
    "class X: pass\n",
    "class Y: pass\n",
    "class A(X, Y): pass\n",
    "class B(Y, X): pass\n",
    "class C(A, B): pass "
   ]
  }
 ],
 "metadata": {
  "kernelspec": {
   "display_name": "Python 3",
   "language": "python",
   "name": "python3"
  },
  "language_info": {
   "codemirror_mode": {
    "name": "ipython",
    "version": 3
   },
   "file_extension": ".py",
   "mimetype": "text/x-python",
   "name": "python",
   "nbconvert_exporter": "python",
   "pygments_lexer": "ipython3",
   "version": "3.10.13"
  }
 },
 "nbformat": 4,
 "nbformat_minor": 2
}
