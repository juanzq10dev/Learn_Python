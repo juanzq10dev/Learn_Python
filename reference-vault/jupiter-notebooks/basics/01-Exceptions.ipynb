{
 "cells": [
  {
   "cell_type": "markdown",
   "metadata": {},
   "source": [
    "An `except` clause matches exceptions that are instances of the class itself. (but not the other way)"
   ]
  },
  {
   "cell_type": "code",
   "execution_count": null,
   "metadata": {},
   "outputs": [],
   "source": [
    "class B(Exception):\n",
    "    pass\n",
    "\n",
    "class C(B):\n",
    "    pass\n",
    "\n",
    "class D(C):\n",
    "    pass\n",
    "\n",
    "for cls in [B, C, D]:\n",
    "    try:\n",
    "        raise cls()\n",
    "    except D:\n",
    "        print(\"D\") # Catches D, but not C nor B\n",
    "    except C:\n",
    "        print(\"C\") # Catches D and C\n",
    "    except B:\n",
    "        print(\"B\") # Catches D, C and B"
   ]
  },
  {
   "cell_type": "markdown",
   "metadata": {},
   "source": [
    "We can confirm that putting `except B` at first "
   ]
  },
  {
   "cell_type": "code",
   "execution_count": null,
   "metadata": {},
   "outputs": [],
   "source": [
    "class B(Exception):\n",
    "    pass\n",
    "\n",
    "class C(B):\n",
    "    pass\n",
    "\n",
    "class D(C):\n",
    "    pass\n",
    "\n",
    "for cls in [B, C, D]:\n",
    "    try:\n",
    "        raise cls()\n",
    "    except B:\n",
    "        print(\"B\") # Catches D, C and B\n",
    "    except D:\n",
    "        print(\"D\") # Catches D, but not C nor B\n",
    "    except C:\n",
    "        print(\"C\") # Catches D and C"
   ]
  },
  {
   "cell_type": "markdown",
   "metadata": {},
   "source": [
    "## The finally statement\n",
    "- If no exception is handled by an `except` clause, the exception is re-raised after the `finally` clause has been executed."
   ]
  },
  {
   "cell_type": "code",
   "execution_count": null,
   "metadata": {},
   "outputs": [],
   "source": [
    "try:\n",
    "  raise KeyboardInterrupt\n",
    "finally:\n",
    "  print(\"Good bye\")"
   ]
  },
  {
   "cell_type": "markdown",
   "metadata": {},
   "source": [
    "- If the `finally` clause executes a `break`, `continue`, or `return` statement, exceptions are not re-raised."
   ]
  },
  {
   "cell_type": "code",
   "execution_count": null,
   "metadata": {},
   "outputs": [],
   "source": [
    "def test_function():\n",
    "    try:\n",
    "        raise KeyboardInterrupt\n",
    "    finally:\n",
    "        return \"Good bye\"\n",
    "\n",
    "test_function()"
   ]
  },
  {
   "cell_type": "markdown",
   "metadata": {},
   "source": [
    "If the `try` statement reaches a `break`, `continue` or `return` statement, the finally clause executes just prior to the break, continue or return statement's execution."
   ]
  },
  {
   "cell_type": "code",
   "execution_count": null,
   "metadata": {},
   "outputs": [],
   "source": [
    "def example_function():\n",
    "    for i in range(0, 3):\n",
    "        try:\n",
    "            print(\"Hello\")\n",
    "            continue\n",
    "        finally:\n",
    "            print(\"I execute before the continue\")\n"
   ]
  },
  {
   "cell_type": "markdown",
   "metadata": {},
   "source": [
    "If a `finally` clause includes a `return` statement, the returned value will be the one from the `finally` statement, not the value from the `try`clause."
   ]
  },
  {
   "cell_type": "code",
   "execution_count": null,
   "metadata": {},
   "outputs": [],
   "source": [
    "def example_function():\n",
    "    try:\n",
    "        return 5\n",
    "    finally:\n",
    "        return 10\n",
    "\n",
    "a = example_function()\n",
    "print(a)"
   ]
  }
 ],
 "metadata": {
  "kernelspec": {
   "display_name": "Python 3",
   "language": "python",
   "name": "python3"
  },
  "language_info": {
   "codemirror_mode": {
    "name": "ipython",
    "version": 3
   },
   "file_extension": ".py",
   "mimetype": "text/x-python",
   "name": "python",
   "nbconvert_exporter": "python",
   "pygments_lexer": "ipython3",
   "version": "3.10.13"
  }
 },
 "nbformat": 4,
 "nbformat_minor": 2
}
