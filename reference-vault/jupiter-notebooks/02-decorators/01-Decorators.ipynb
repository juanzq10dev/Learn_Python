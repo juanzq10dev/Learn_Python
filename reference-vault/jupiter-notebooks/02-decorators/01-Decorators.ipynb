{
 "cells": [
  {
   "cell_type": "markdown",
   "metadata": {},
   "source": [
    "# Decorators\n",
    "\n",
    "IMPORTANT: Those examples and explanations are very general. The handbook contains more specific appointments. \n",
    "\n",
    "Here is how to define a decorator"
   ]
  },
  {
   "cell_type": "code",
   "execution_count": null,
   "metadata": {},
   "outputs": [],
   "source": [
    "def uppercase_decorator(function):\n",
    "    def wrapper():\n",
    "        fun = function()\n",
    "        make_uppercase = fun.upper()\n",
    "        return make_uppercase\n",
    "    \n",
    "    return wrapper"
   ]
  },
  {
   "cell_type": "markdown",
   "metadata": {},
   "source": [
    "We can call decorators manually"
   ]
  },
  {
   "cell_type": "code",
   "execution_count": null,
   "metadata": {},
   "outputs": [],
   "source": [
    "def say_hi():\n",
    "    return 'hello there'\n",
    "\n",
    "decorate = uppercase_decorator(say_hi)\n",
    "print(decorate())"
   ]
  },
  {
   "cell_type": "markdown",
   "metadata": {},
   "source": [
    "But Python provides a sugar syntax for calling decorators"
   ]
  },
  {
   "cell_type": "code",
   "execution_count": null,
   "metadata": {},
   "outputs": [],
   "source": [
    "@uppercase_decorator\n",
    "def say_hello():\n",
    "    return 'hello_there'\n",
    "\n",
    "print(say_hello())"
   ]
  },
  {
   "cell_type": "markdown",
   "metadata": {},
   "source": [
    "## Applying multiple decorators\n",
    "Decorators apply from bottom up"
   ]
  },
  {
   "cell_type": "code",
   "execution_count": null,
   "metadata": {},
   "outputs": [],
   "source": [
    "def split_string(function):\n",
    "    def wrapper():\n",
    "        fun = function()\n",
    "        make_uppercase = fun.split()\n",
    "        return make_uppercase\n",
    "    \n",
    "    return wrapper"
   ]
  },
  {
   "cell_type": "code",
   "execution_count": null,
   "metadata": {},
   "outputs": [],
   "source": [
    "@split_string\n",
    "@uppercase_decorator\n",
    "def greetings():\n",
    "    return \"Hello my friends\"\n",
    "\n",
    "print(greetings())"
   ]
  },
  {
   "cell_type": "markdown",
   "metadata": {},
   "source": [
    "If we invert the decorators it will lead to an exception because list does not have uppercase method. "
   ]
  },
  {
   "cell_type": "code",
   "execution_count": null,
   "metadata": {},
   "outputs": [],
   "source": [
    "\n",
    "@uppercase_decorator\n",
    "# UNCOMMENT THIS TO SEE HOW IT FAILS:\n",
    "# @split_string  \n",
    "def greetings_2():\n",
    "    return \"Hello my friends\"\n",
    "\n",
    "print(greetings_2())"
   ]
  },
  {
   "cell_type": "markdown",
   "metadata": {},
   "source": [
    "## Adding params to wrapped functions\n",
    "We pass the arguments to the wrapped function and to the decorated function"
   ]
  },
  {
   "cell_type": "code",
   "execution_count": null,
   "metadata": {},
   "outputs": [],
   "source": [
    "def upper_with_args(function):\n",
    "    def wrapper(name): # wrapped function with args\n",
    "        func = function(name) # decorated function\n",
    "        make_uppercase = func.upper()\n",
    "        return make_uppercase\n",
    "    return wrapper"
   ]
  },
  {
   "cell_type": "code",
   "execution_count": null,
   "metadata": {},
   "outputs": [],
   "source": [
    "@upper_with_args\n",
    "def say_hi_with_args(name):\n",
    "    return f\"Hello there {name}\"\n",
    "\n",
    "print(say_hi_with_args(\"Juanito\"))"
   ]
  },
  {
   "cell_type": "markdown",
   "metadata": {},
   "source": [
    "## General purpose decorators\n",
    "We use `*args`and `**kwargs` to define general purpose decorators"
   ]
  },
  {
   "cell_type": "code",
   "execution_count": null,
   "metadata": {},
   "outputs": [],
   "source": [
    "def upper_with_args_kwargs(function):\n",
    "    def wrapper(*args, **kwargs): # wrapped function with args\n",
    "        func = function(*args, **kwargs) # decorated function\n",
    "        make_uppercase = func.upper()\n",
    "        return make_uppercase\n",
    "    return wrapper"
   ]
  },
  {
   "cell_type": "code",
   "execution_count": null,
   "metadata": {},
   "outputs": [],
   "source": [
    "@upper_with_args_kwargs\n",
    "def say_hi_two_args(name, lastname):\n",
    "    return f\"Hi {name} {lastname}\"\n",
    "\n",
    "@upper_with_args_kwargs\n",
    "def say_hi_three_args(name, second_name, lastname, ):\n",
    "    return f\"Hi {name} {second_name} {lastname}\"\n",
    "\n",
    "print(say_hi_two_args(\"Juan\", \"Zurita\"))\n",
    "print(say_hi_three_args(\"Juan\", \"Manuel\", \"Zurita\"))"
   ]
  },
  {
   "cell_type": "markdown",
   "metadata": {},
   "source": [
    "## Passing args to a decorator\n",
    "This is a decorator with args."
   ]
  },
  {
   "cell_type": "code",
   "execution_count": null,
   "metadata": {},
   "outputs": [],
   "source": [
    "def repeat(n): # decorator maker\n",
    "    def decorator(func): # decorator\n",
    "        def wrapper(*args, **kwargs):\n",
    "            for _ in range(n):\n",
    "                func(*args, **kwargs)\n",
    "        return wrapper\n",
    "    return decorator"
   ]
  },
  {
   "cell_type": "code",
   "execution_count": null,
   "metadata": {},
   "outputs": [],
   "source": [
    "@repeat(3)\n",
    "def say_bi(name):\n",
    "    print(f\"Bye {name}\")\n",
    "\n",
    "say_bi(\"Mela\")"
   ]
  },
  {
   "cell_type": "markdown",
   "metadata": {},
   "source": [
    "## Debugging decorators\n",
    "Use functools.wraps to replace metadata (more about this on handbook)"
   ]
  },
  {
   "cell_type": "code",
   "execution_count": null,
   "metadata": {},
   "outputs": [],
   "source": [
    "from functools import wraps\n",
    "\n",
    "def my_decorator(func):\n",
    "    @wraps(func) #functools.wraps\n",
    "    def wrapper(*args, **kwargs):\n",
    "        print(\"Decorating\")\n",
    "        res = func(*args, **kwargs)\n",
    "        return res\n",
    "    return wrapper"
   ]
  }
 ],
 "metadata": {
  "kernelspec": {
   "display_name": "Python 3",
   "language": "python",
   "name": "python3"
  },
  "language_info": {
   "codemirror_mode": {
    "name": "ipython",
    "version": 3
   },
   "file_extension": ".py",
   "mimetype": "text/x-python",
   "name": "python",
   "nbconvert_exporter": "python",
   "pygments_lexer": "ipython3",
   "version": "3.10.13"
  }
 },
 "nbformat": 4,
 "nbformat_minor": 2
}
